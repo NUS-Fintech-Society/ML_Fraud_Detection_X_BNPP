{
 "cells": [
  {
   "cell_type": "code",
   "execution_count": 1,
   "metadata": {},
   "outputs": [
    {
     "name": "stdout",
     "output_type": "stream",
     "text": [
      "Model path:/Users/chengjunlam/Desktop/Github local repos/ML_Fraud_Detection_X_BNPP/Model\n"
     ]
    }
   ],
   "source": [
    "#importing python file\n",
    "import os\n",
    "path_parent = os.path.dirname(os.getcwd())\n",
    "model = \"Explainability.py\"\n",
    "model_path = path_parent + \"/Model\"\n",
    "print(\"Model path:{}\".format(model_path))\n",
    "import sys  \n",
    "sys.path.insert(0, model_path)"
   ]
  },
  {
   "cell_type": "code",
   "execution_count": 2,
   "metadata": {},
   "outputs": [],
   "source": [
    "from Explainability import Oracle, Trepan"
   ]
  },
  {
   "cell_type": "code",
   "execution_count": null,
   "metadata": {},
   "outputs": [],
   "source": [
    "#wrapper class of svdd for trepan explainability to query\n",
    "oracle = Oracle(anomoly_detection,2,X_train_selected.to_numpy())"
   ]
  }
 ],
 "metadata": {
  "kernelspec": {
   "display_name": "BNPP_Fintech",
   "language": "python",
   "name": "bnpp_fintech"
  },
  "language_info": {
   "codemirror_mode": {
    "name": "ipython",
    "version": 3
   },
   "file_extension": ".py",
   "mimetype": "text/x-python",
   "name": "python",
   "nbconvert_exporter": "python",
   "pygments_lexer": "ipython3",
   "version": "3.9.1"
  }
 },
 "nbformat": 4,
 "nbformat_minor": 4
}
